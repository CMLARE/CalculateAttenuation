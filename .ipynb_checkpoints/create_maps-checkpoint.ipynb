{
 "cells": [
  {
   "cell_type": "markdown",
   "metadata": {},
   "source": [
    "Import Libraries"
   ]
  },
  {
   "cell_type": "code",
   "execution_count": 1,
   "metadata": {},
   "outputs": [],
   "source": [
    "from matplotlib import pyplot as plt\n",
    "from os import listdir\n",
    "from os.path import isfile, join\n",
    "import csv"
   ]
  },
  {
   "cell_type": "markdown",
   "metadata": {},
   "source": [
    "# Read Data from CSV"
   ]
  },
  {
   "cell_type": "code",
   "execution_count": 2,
   "metadata": {},
   "outputs": [],
   "source": [
    "files_loc = \"/media/akalanka/Engineering/Final Year Project/edited files linkwise/\"\n",
    "specific_links_list = [\"26Gy1310x23\"]"
   ]
  },
  {
   "cell_type": "code",
   "execution_count": 3,
   "metadata": {},
   "outputs": [],
   "source": [
    "def draw_map(x, y, show=False, save_loc=None, title=None):\n",
    "    plt.ylabel(\"Time\")\n",
    "    plt.xlabel(\"Attenuation\")\n",
    "    plt.title(title)\n",
    "    plt.plot(x,y)\n",
    "\n",
    "    if show:\n",
    "        plt.show()\n",
    "    if save_loc is not None:\n",
    "        plt.savefig()"
   ]
  },
  {
   "cell_type": "code",
   "execution_count": 10,
   "metadata": {},
   "outputs": [],
   "source": [
    "def attenuation_maps(files_loc, links=None):\n",
    "    onlyfiles = [f for f in listdir(files_loc) if isfile(join(files_loc, f))]\n",
    "\n",
    "    if links is None:\n",
    "        for link in onlyfiles:\n",
    "            with open(files_loc + link, \"r\") as link_file:\n",
    "                columns = [\"Source1\",\n",
    "                           \"Source2\",\n",
    "                           \"date_time\",\n",
    "                           \"AVG_TSL_FRM_S1\",\n",
    "                           \"AVG_RSL_TO_S2\",\n",
    "                           \"AVG_TSL_FRM_S2\",\n",
    "                           \"AVG_RSL_TO_S1\",\n",
    "                           \"ATTN_S1_S2_Watts\",\n",
    "                           \"ATTN_S1_S2_dBm\",\n",
    "                           \"ATTN_S2_S1_Watts\",\n",
    "                           \"ATTN_S2_S1_dBm\"]\n",
    "                new_data = csv.DictReader(link_file, fieldnames=columns)\n",
    "\n",
    "                x = []\n",
    "                y = []\n",
    "                title = \"\"\n",
    "                source_1 = \"\"\n",
    "                source_2 = \"\"\n",
    "\n",
    "                for row in new_data:\n",
    "                    print(row)\n",
    "                    print(row[\"Source1\"])"
   ]
  },
  {
   "cell_type": "code",
   "execution_count": null,
   "metadata": {},
   "outputs": [],
   "source": [
    "attenuation_maps(files_loc)"
   ]
  },
  {
   "cell_type": "code",
   "execution_count": null,
   "metadata": {},
   "outputs": [],
   "source": []
  }
 ],
 "metadata": {
  "kernelspec": {
   "display_name": "Python 3",
   "language": "python",
   "name": "python3"
  },
  "language_info": {
   "codemirror_mode": {
    "name": "ipython",
    "version": 3
   },
   "file_extension": ".py",
   "mimetype": "text/x-python",
   "name": "python",
   "nbconvert_exporter": "python",
   "pygments_lexer": "ipython3",
   "version": "3.6.5"
  }
 },
 "nbformat": 4,
 "nbformat_minor": 2
}
